{
 "cells": [
  {
   "cell_type": "code",
   "execution_count": 25,
   "metadata": {},
   "outputs": [],
   "source": [
    "#Importing packages and data\n",
    "import numpy as np\n",
    "import pandas as pd\n",
    "filnavn = 'anlaegprodtilnettet.xls'\n",
    "data = pd.read_excel(filnavn,skiprows=17, usecols=range(58), skipfooter=3)"
   ]
  },
  {
   "cell_type": "code",
   "execution_count": 44,
   "metadata": {},
   "outputs": [
    {
     "name": "stdout",
     "output_type": "stream",
     "text": [
      "Index(['Møllenummer (GSRN)', 'Dato for oprindelig nettilslutning',\n",
      "       'Kapacitet (kW)', 'Rotor-diameter (m)', 'Navhøjde (m)', 'Fabrikat',\n",
      "       'Model', 'Kommune-nr.', 'Kommune', 'Type af placering', 'Ejerlav',\n",
      "       'Matrikel-nummer', 'X (øst) koordinat \\nUTM 32 Euref89',\n",
      "       'Y (nord) koordinat \\nUTM 32 Euref89', 'Koordinatoprindelse', 'p2008',\n",
      "       'p2009', 'p2010', 'p2011', 'p2012', 'p2013', 'p2014', 'p2015', 'p2016',\n",
      "       'p2017', 'p2018'],\n",
      "      dtype='object')\n"
     ]
    }
   ],
   "source": [
    "#Renaming the 'Unnamed X:' columns to pYEAR to indicate eletricity production for the wind turbine\n",
    "#Removing the observations from 1977 to 2007.\n",
    "new_cols = {}\n",
    "for i in range(1977,2019):\n",
    "    new_cols[str(i)]=f'p{i}'\n",
    "column_indices = range(16,58)\n",
    "old_cols = data.columns[column_indices]\n",
    "data.rename(columns=dict(zip(old_cols, new_cols)), inplace=True)\n",
    "data.rename(columns=new_cols, inplace=True)\n",
    "data.head()\n",
    "data.drop(data.iloc[:,15:47], inplace=True, axis=1)\n",
    "print(data.columns)"
   ]
  },
  {
   "cell_type": "code",
   "execution_count": null,
   "metadata": {},
   "outputs": [],
   "source": []
  }
 ],
 "metadata": {
  "kernelspec": {
   "display_name": "Python 3",
   "language": "python",
   "name": "python3"
  },
  "language_info": {
   "codemirror_mode": {
    "name": "ipython",
    "version": 3
   },
   "file_extension": ".py",
   "mimetype": "text/x-python",
   "name": "python",
   "nbconvert_exporter": "python",
   "pygments_lexer": "ipython3",
   "version": "3.7.1"
  }
 },
 "nbformat": 4,
 "nbformat_minor": 2
}
