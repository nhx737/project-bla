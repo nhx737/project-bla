{
 "cells": [
  {
   "cell_type": "code",
   "execution_count": 6,
   "metadata": {},
   "outputs": [],
   "source": [
    "#Importing packages and data\n",
    "import numpy as np\n",
    "import pandas as pd\n",
    "filnavn = 'anlaegprodtilnettet.xls'\n",
    "data = pd.read_excel(filnavn,skiprows=17, usecols=range(58), skipfooter=3)"
   ]
  },
  {
   "cell_type": "code",
   "execution_count": 7,
   "metadata": {},
   "outputs": [
    {
     "ename": "SyntaxError",
     "evalue": "invalid syntax (<ipython-input-7-e50836215f6c>, line 3)",
     "output_type": "error",
     "traceback": [
      "\u001b[0;36m  File \u001b[0;32m\"<ipython-input-7-e50836215f6c>\"\u001b[0;36m, line \u001b[0;32m3\u001b[0m\n\u001b[0;31m    myDict[str(i)]=f'e{i}'\u001b[0m\n\u001b[0m                         ^\u001b[0m\n\u001b[0;31mSyntaxError\u001b[0m\u001b[0;31m:\u001b[0m invalid syntax\n"
     ]
    }
   ],
   "source": [
    "myDict = {}\n",
    "for i in range(1987,2017):\n",
    "    myDict[str(i)]=f'e{i}'\n",
    "myDict"
   ]
  },
  {
   "cell_type": "code",
   "execution_count": 4,
   "metadata": {},
   "outputs": [
    {
     "ename": "SyntaxError",
     "evalue": "invalid syntax (<ipython-input-4-a523ecb2ea7d>, line 4)",
     "output_type": "error",
     "traceback": [
      "\u001b[0;36m  File \u001b[0;32m\"<ipython-input-4-a523ecb2ea7d>\"\u001b[0;36m, line \u001b[0;32m4\u001b[0m\n\u001b[0;31m    new_cols[str(i)]=f'p{i}'\u001b[0m\n\u001b[0m                           ^\u001b[0m\n\u001b[0;31mSyntaxError\u001b[0m\u001b[0;31m:\u001b[0m invalid syntax\n"
     ]
    }
   ],
   "source": [
    "#Renaming the 'Unnamed X:' columns to pYEAR to indicate eletricity production for the wind turbine\n",
    "new_cols = {}\n",
    "for i in range(1977,2019):\n",
    "    new_cols[str(i)]=f'p{i}'\n",
    "column_indices = range(16,58)\n",
    "old_cols = data.columns[column_indices]\n",
    "data.rename(columns=dict(zip(old_cols, new_cols)), inplace=True)\n",
    "data.rename(columns=new_cols, inplace=True)\n",
    "data.head()"
   ]
  }
 ],
 "metadata": {
  "kernelspec": {
   "display_name": "Python 2",
   "language": "python",
   "name": "python2"
  },
  "language_info": {
   "codemirror_mode": {
    "name": "ipython",
    "version": 2
   },
   "file_extension": ".py",
   "mimetype": "text/x-python",
   "name": "python",
   "nbconvert_exporter": "python",
   "pygments_lexer": "ipython2",
   "version": "2.7.15"
  }
 },
 "nbformat": 4,
 "nbformat_minor": 2
}
