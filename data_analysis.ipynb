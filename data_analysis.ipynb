{
 "cells": [
  {
   "cell_type": "code",
   "execution_count": 3,
   "metadata": {},
   "outputs": [],
   "source": [
    "#importing data from 'Cleaning data'\n",
    "%store -r data\n",
    "#Renaming the municipality 'Ålborg' to 'Aalborg' to fit the gdfs 'KOMNAVN' MEN DET GØR DEN IKKE! \n",
    "replace_values = {'Ålborg' : 'Aalborg'}\n",
    "#data.replace({\"Kommune\": replace_values})  \n",
    "d = {'Ålborg': 'Aalborg'}\n",
    "data['Kommune'].replace(d,inplace = True)"
   ]
  },
  {
   "cell_type": "code",
   "execution_count": null,
   "metadata": {},
   "outputs": [],
   "source": []
  },
  {
   "cell_type": "code",
   "execution_count": 4,
   "metadata": {},
   "outputs": [
    {
     "data": {
      "text/plain": [
       "Kommune\n",
       "Aabenraa     86.226\n",
       "Aalborg     158.030\n",
       "Allerød       2.747\n",
       "Assens       31.151\n",
       "Billund      92.575\n",
       "dtype: float64"
      ]
     },
     "execution_count": 4,
     "metadata": {},
     "output_type": "execute_result"
    }
   ],
   "source": [
    "#Calculation the total wind energi capacity per municipality\n",
    "kom_MW_total = data.groupby('Kommune').apply(lambda x: x['Kapacitet (kW)'].sum()/1000)\n",
    "kom_MW_total.head()"
   ]
  },
  {
   "cell_type": "code",
   "execution_count": 5,
   "metadata": {},
   "outputs": [
    {
     "data": {
      "text/html": [
       "<div>\n",
       "<style scoped>\n",
       "    .dataframe tbody tr th:only-of-type {\n",
       "        vertical-align: middle;\n",
       "    }\n",
       "\n",
       "    .dataframe tbody tr th {\n",
       "        vertical-align: top;\n",
       "    }\n",
       "\n",
       "    .dataframe thead th {\n",
       "        text-align: right;\n",
       "    }\n",
       "</style>\n",
       "<table border=\"1\" class=\"dataframe\">\n",
       "  <thead>\n",
       "    <tr style=\"text-align: right;\">\n",
       "      <th></th>\n",
       "      <th>Kommune</th>\n",
       "      <th>p2008</th>\n",
       "      <th>p2009</th>\n",
       "      <th>p2010</th>\n",
       "      <th>p2011</th>\n",
       "      <th>p2012</th>\n",
       "      <th>p2013</th>\n",
       "      <th>p2014</th>\n",
       "      <th>p2015</th>\n",
       "      <th>p2016</th>\n",
       "      <th>p2017</th>\n",
       "      <th>p2018</th>\n",
       "      <th>L10year_prod</th>\n",
       "    </tr>\n",
       "  </thead>\n",
       "  <tbody>\n",
       "    <tr>\n",
       "      <th>76</th>\n",
       "      <td>Vesthimmerlands</td>\n",
       "      <td>120.412482</td>\n",
       "      <td>133.586108</td>\n",
       "      <td>164.527002</td>\n",
       "      <td>235.576486</td>\n",
       "      <td>256.589551</td>\n",
       "      <td>255.070112</td>\n",
       "      <td>285.590715</td>\n",
       "      <td>330.808653</td>\n",
       "      <td>264.666162</td>\n",
       "      <td>299.471495</td>\n",
       "      <td>253.553780</td>\n",
       "      <td>2599.852547</td>\n",
       "    </tr>\n",
       "    <tr>\n",
       "      <th>77</th>\n",
       "      <td>Viborg</td>\n",
       "      <td>61.879577</td>\n",
       "      <td>70.461198</td>\n",
       "      <td>68.117935</td>\n",
       "      <td>81.641367</td>\n",
       "      <td>78.747770</td>\n",
       "      <td>95.309769</td>\n",
       "      <td>112.993406</td>\n",
       "      <td>149.428751</td>\n",
       "      <td>121.008696</td>\n",
       "      <td>133.167539</td>\n",
       "      <td>110.989783</td>\n",
       "      <td>1083.745791</td>\n",
       "    </tr>\n",
       "    <tr>\n",
       "      <th>78</th>\n",
       "      <td>Vordingborg</td>\n",
       "      <td>36.392580</td>\n",
       "      <td>32.630562</td>\n",
       "      <td>30.968886</td>\n",
       "      <td>36.544643</td>\n",
       "      <td>34.122600</td>\n",
       "      <td>31.075127</td>\n",
       "      <td>33.835154</td>\n",
       "      <td>37.934436</td>\n",
       "      <td>29.878196</td>\n",
       "      <td>35.571491</td>\n",
       "      <td>29.282802</td>\n",
       "      <td>368.236478</td>\n",
       "    </tr>\n",
       "    <tr>\n",
       "      <th>79</th>\n",
       "      <td>Århus</td>\n",
       "      <td>21.910522</td>\n",
       "      <td>19.580234</td>\n",
       "      <td>16.552827</td>\n",
       "      <td>22.582937</td>\n",
       "      <td>21.355769</td>\n",
       "      <td>19.021514</td>\n",
       "      <td>20.587272</td>\n",
       "      <td>23.183657</td>\n",
       "      <td>18.119259</td>\n",
       "      <td>20.301422</td>\n",
       "      <td>18.218621</td>\n",
       "      <td>221.414037</td>\n",
       "    </tr>\n",
       "    <tr>\n",
       "      <th>80</th>\n",
       "      <td>Ærø</td>\n",
       "      <td>21.989996</td>\n",
       "      <td>20.178910</td>\n",
       "      <td>19.210930</td>\n",
       "      <td>26.637885</td>\n",
       "      <td>43.792352</td>\n",
       "      <td>41.486246</td>\n",
       "      <td>45.216596</td>\n",
       "      <td>44.312527</td>\n",
       "      <td>37.461961</td>\n",
       "      <td>41.296356</td>\n",
       "      <td>38.543020</td>\n",
       "      <td>380.126778</td>\n",
       "    </tr>\n",
       "  </tbody>\n",
       "</table>\n",
       "</div>"
      ],
      "text/plain": [
       "            Kommune       p2008       p2009       p2010       p2011  \\\n",
       "76  Vesthimmerlands  120.412482  133.586108  164.527002  235.576486   \n",
       "77           Viborg   61.879577   70.461198   68.117935   81.641367   \n",
       "78      Vordingborg   36.392580   32.630562   30.968886   36.544643   \n",
       "79            Århus   21.910522   19.580234   16.552827   22.582937   \n",
       "80              Ærø   21.989996   20.178910   19.210930   26.637885   \n",
       "\n",
       "         p2012       p2013       p2014       p2015       p2016       p2017  \\\n",
       "76  256.589551  255.070112  285.590715  330.808653  264.666162  299.471495   \n",
       "77   78.747770   95.309769  112.993406  149.428751  121.008696  133.167539   \n",
       "78   34.122600   31.075127   33.835154   37.934436   29.878196   35.571491   \n",
       "79   21.355769   19.021514   20.587272   23.183657   18.119259   20.301422   \n",
       "80   43.792352   41.486246   45.216596   44.312527   37.461961   41.296356   \n",
       "\n",
       "         p2018  L10year_prod  \n",
       "76  253.553780   2599.852547  \n",
       "77  110.989783   1083.745791  \n",
       "78   29.282802    368.236478  \n",
       "79   18.218621    221.414037  \n",
       "80   38.543020    380.126778  "
      ]
     },
     "execution_count": 5,
     "metadata": {},
     "output_type": "execute_result"
    }
   ],
   "source": [
    "#Calculation the total electricity produced by wind turbines per municipality\n",
    "prod_cols=['p2008','p2009', 'p2010', 'p2011', 'p2012', 'p2013', 'p2014', 'p2015', 'p2016','p2017', 'p2018']\n",
    "kom_prod_total = data.groupby(data.Kommune.values).apply(lambda x: x[prod_cols].sum()/1000000).reset_index()\n",
    "\n",
    "#Adding 'Total Production' = Total_prod to the kom_prod_total\n",
    "kom_prod_total['L10year_prod']=kom_prod_total.sum(axis=1)\n",
    "kom_prod_total.rename(columns={'index':'Kommune'}, inplace=True)\n",
    "kom_prod_total.tail()\n",
    "\n"
   ]
  },
  {
   "cell_type": "code",
   "execution_count": 6,
   "metadata": {},
   "outputs": [],
   "source": [
    "#Extracting the year a wind turbine is connected to the grid\n",
    "#Accessing the datetime attributes\n",
    "data['Dato for oprindelig nettilslutning'].dt.year\n",
    "\n",
    "#Year of grid connection\n",
    "connected_year = data['Dato for oprindelig nettilslutning'].dt.year\n",
    "data.insert(2, \"Year of grid connection\", connected_year)"
   ]
  },
  {
   "cell_type": "code",
   "execution_count": 7,
   "metadata": {},
   "outputs": [],
   "source": [
    "#import pandas as pd\n",
    "#count_of_grid_connects = data.groupby('Year of grid connection').count().reset_index()\n"
   ]
  },
  {
   "cell_type": "code",
   "execution_count": 15,
   "metadata": {},
   "outputs": [
    {
     "data": {
      "text/plain": [
       "<matplotlib.axes._subplots.AxesSubplot at 0x113dac3c8>"
      ]
     },
     "execution_count": 15,
     "metadata": {},
     "output_type": "execute_result"
    },
    {
     "data": {
      "image/png": "[encoded data removed]",
      "text/plain": [
       "<Figure size 720x360 with 1 Axes>"
      ]
     },
     "metadata": {
      "needs_background": "light"
     },
     "output_type": "display_data"
    }
   ],
   "source": [
    "data.groupby('Year of grid connection')['Dato for oprindelig nettilslutning'].count().plot.bar(legend=False, figsize=(10,5), title='Count of existing grid connected wind turbines') \n"
   ]
  },
  {
   "cell_type": "code",
   "execution_count": 18,
   "metadata": {},
   "outputs": [
    {
     "data": {
      "text/plain": [
       "Text(0.5, 0, 'Year connected to grid')"
      ]
     },
     "execution_count": 18,
     "metadata": {},
     "output_type": "execute_result"
    },
    {
     "data": {
      "image/png": "[encoded data removed]",
      "text/plain": [
       "<Figure size 720x360 with 1 Axes>"
      ]
     },
     "metadata": {
      "needs_background": "light"
     },
     "output_type": "display_data"
    }
   ],
   "source": [
    "#Plotting the grid connected capacity in a given year\n",
    "cx = data.plot.scatter(x='Year of grid connection',y='Kapacitet (kW)',\n",
    "figsize=(10,5), title='Capacity installed per year (MW)')\n",
    "\n",
    "\n",
    "#Setting the axis titles\n",
    "cx.set_ylabel(\"Capacity (MW)\")\n",
    "cx.set_xlabel(\"Year connected to grid\")"
   ]
  },
  {
   "cell_type": "code",
   "execution_count": null,
   "metadata": {},
   "outputs": [],
   "source": []
  }
 ],
 "metadata": {
  "kernelspec": {
   "display_name": "Python 3",
   "language": "python",
   "name": "python3"
  },
  "language_info": {
   "codemirror_mode": {
    "name": "ipython",
    "version": 3
   },
   "file_extension": ".py",
   "mimetype": "text/x-python",
   "name": "python",
   "nbconvert_exporter": "python",
   "pygments_lexer": "ipython3",
   "version": "3.7.1"
  }
 },
 "nbformat": 4,
 "nbformat_minor": 2
}
